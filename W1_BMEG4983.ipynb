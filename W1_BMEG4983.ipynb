{
  "cells": [
    {
      "cell_type": "markdown",
      "metadata": {
        "id": "view-in-github"
      },
      "source": [
        "<a href=\"https://colab.research.google.com/github/chrisnelsonlab/BMEG4983_2024/blob/main/W1_BMEG4983.ipynb\" target=\"_parent\"><img src=\"https://colab.research.google.com/assets/colab-badge.svg\" alt=\"Open In Colab\"/></a>"
      ]
    },
    {
      "cell_type": "markdown",
      "metadata": {
        "id": "aI7_gZZ1qPDE"
      },
      "source": [
        "<img src=https://brand.uark.edu/_resources/images/UA_Logo_Horizontal.jpg width=\"400\" height=\"96\">\n",
        "\n",
        "### BMEG 4983 - Genome Engineering and Synthetic Biology -\n",
        "### For more information, check out the Nelson lab for Therapeutic Genome Engineering (https://nelsonlab.uark.edu/)\n",
        "\n",
        "\n",
        "# Data Workshop 1 - Python, Google Colab, and Sequences\n"
      ]
    },
    {
      "cell_type": "markdown",
      "metadata": {
        "id": "3QRFJgYCepcX"
      },
      "source": [
        "# 1.7 Learning Check"
      ]
    },
    {
      "cell_type": "code",
      "execution_count": 12,
      "metadata": {
        "colab": {
          "base_uri": "https://localhost:8080/"
        },
        "id": "O4jl8FRDCkmj",
        "outputId": "f2eac800-ad01-47c8-f155-642e0010cbbe"
      },
      "outputs": [
        {
          "name": "stdout",
          "output_type": "stream",
          "text": [
            "Q1: Correct\n",
            "Q2: Correct\n",
            "Q3: Correct\n",
            "Q4: Correct\n"
          ]
        }
      ],
      "source": [
        "#@title Learning Check (input answers and hit play button)\n",
        "\n",
        "#@markdown Q1: Can you directly edit strings?\n",
        "answer1 = 'No' #@param [\" \",\"Yes\", \"No\"]\n",
        "\n",
        "#@markdown Q2: I want to isolate \"ATG\" with the following code:\n",
        "\n",
        "#@markdown my_seq = \"CGGATGCGG\"\n",
        "\n",
        "#@markdown print(my_seq[x1:x2])\n",
        "\n",
        "#@markdown What do x1 and x2 need to be?\n",
        "\n",
        "x1 =  3#@param {type:\"integer\"}\n",
        "x2 =  6#@param {type:\"integer\"}\n",
        "\n",
        "#@markdown Q3: What side of the DNA should be on the left?\n",
        "answer3 = \"5'\" #@param [\" \",\"5'\", \"3'\"]\n",
        "\n",
        "#@markdown Q4: What organism is this sequence likely from?\n",
        "\n",
        "#@markdown Sequence = \"cgcaatttacaacacagactttatgagtgtctctatagaaatagagatgttgacacagac\"\n",
        "answer4 = \"SARS-CoV-2\" #@param [\"\", \"human\", \"mouse\", \"aligator\", \"SARS-CoV-2\"]\n",
        "\n",
        "\n",
        "if (answer1 == \"No\"):\n",
        "  print('Q1: Correct')\n",
        "else:\n",
        "  print('Q1: Incorrect')\n",
        "\n",
        "if (x1 == 3 and x2 == 6):\n",
        "  print('Q2: Correct')\n",
        "else:\n",
        "  print('Q2: Incorrect')\n",
        "\n",
        "if (answer3 == \"5'\"):\n",
        "  print('Q3: Correct')\n",
        "else:\n",
        "  print('Q3: Incorrect')\n",
        "\n",
        "if (answer4 == \"SARS-CoV-2\"):\n",
        "  print('Q4: Correct')\n",
        "else:\n",
        "  print('Q4: Incorrect')"
      ]
    },
    {
      "cell_type": "markdown",
      "metadata": {
        "id": "YDL4F-np7kf6"
      },
      "source": [
        "# 1.8 HW1\n",
        "Homework 1 is designed to determine gene choices, journal club assignments, and ethics panel assignements. Secondary is for you to demonstrate that you have a basic understanding of how google colab notebooks work. There are two code blocks below. Edit them as needed, download the .ipynb file, and upload to blackboard.\n",
        "\n",
        "Before you start to edit the code below, save this to your own google account so you can edit and save.\n",
        "\n",
        "When you are done, turn it in by sharing it with the email I will provide you in class through google colab or github.\n",
        "\n",
        "Only provide the homework problems (not the above text)\n"
      ]
    },
    {
      "cell_type": "markdown",
      "metadata": {
        "id": "UfFBFk42Otwy"
      },
      "source": [
        "## 1.8.1. Q1 - Class preferences"
      ]
    },
    {
      "cell_type": "code",
      "execution_count": 10,
      "metadata": {
        "colab": {
          "base_uri": "https://localhost:8080/"
        },
        "id": "lHWwKvFJ77cD",
        "outputId": "276e66e0-9768-49ab-daa0-be4e97558c95"
      },
      "outputs": [
        {
          "name": "stdout",
          "output_type": "stream",
          "text": [
            "Good\n",
            "Your name for this class is Ethan\n",
            "Your gene choice for your project is notagene\n",
            "Your journal club preferences are:\n",
            "Rank #1: Gene-editing therapy\n",
            "Rank #2: Gene therapy\n",
            "Rank #3: Molecular diagnostics\n",
            "Rank #4: Cell Therapy\n",
            "Rank #5: Safety of gene editing\n",
            "Rank #6: Epigenetics\n",
            "Rank #7: Gene Drives\n",
            "Your ethics panel preferences are:\n",
            "Rank #1: Biohacking and DIY\n",
            "Rank #2: Biotech patents\n",
            "Rank #3: Privacy\n",
            "Rank #4: Embryo editing\n",
            "Rank #5: GMO Crops\n",
            "Rank #6: Affordability of gene therapy\n",
            "Rank #7: Gene drives\n",
            "make sure to download this as a .ipynb and submit via blackboard\n"
          ]
        }
      ],
      "source": [
        "# Ethan\n",
        "# N/A\n",
        "# 01-24-24\n",
        "# The purpose of this script is to give Dr. Nelson my personal information, class prefrences, and coding experience.\n",
        "\n",
        "#I would like to be called the following during class discussion\n",
        "my_name = 'Ethan'\n",
        "\n",
        "#My journal club preferences are sorted in order from favorite to least favorite\n",
        "JC_preferences = [\"Gene-editing therapy\", \"Gene therapy\",\"Molecular diagnostics\",\"Cell Therapy\",\"Safety of gene editing\", \"Epigenetics\",\"Gene Drives\" ]\n",
        "\n",
        "#My ethics panel preferences are sorted in order from favorite to least favorite\n",
        "ethics_preferences = [\"Biohacking and DIY\", \"Biotech patents\",\"Privacy\",\"Embryo editing\", \"GMO Crops\",\"Affordability of gene therapy\",\"Gene drives\"]\n",
        "\n",
        "#Choose a gene for your project (Should be related to a human disease or your research)\n",
        "#Use the common symbol for the gene\n",
        "gene_choice = \"notagene\"\n",
        "\n",
        "#Additional comments\n",
        "#Use this comment here to make any additional comments that you want me to know\n",
        "#before starting the class. If you have other suggestions for journal club\n",
        "#articles or ethics topics, let me know.\n",
        "\n",
        "#I know a little about google colab and python and can edit code blocks\n",
        "google_colab_basics = True\n",
        "#I know how to download a .ipynb and upload to blackboard as my homework submission\n",
        "homework_turn_in = True\n",
        "#I completed the learning check above successfully\n",
        "learning_check = True\n",
        "\n",
        "\n",
        "#You don't need to edit below this unless there are issues\n",
        "if(google_colab_basics & homework_turn_in & learning_check):\n",
        "  print('Good')\n",
        "  print('Your name for this class is '+my_name)\n",
        "  print('Your gene choice for your project is '+gene_choice)\n",
        "  print('Your journal club preferences are:')\n",
        "  for i,pref in enumerate(JC_preferences):\n",
        "    print(\"Rank #\"+str(i+1)+\": \"+pref)\n",
        "  print('Your ethics panel preferences are:')\n",
        "  for i,pref in enumerate(ethics_preferences):\n",
        "    print(\"Rank #\"+str(i+1)+\": \"+pref)\n",
        "  print('make sure to download this as a .ipynb and submit via blackboard')\n",
        "else:\n",
        "  print('Read the green comments and edit variables as needed')\n"
      ]
    },
    {
      "cell_type": "markdown",
      "metadata": {
        "id": "hjSBApFEOx-j"
      },
      "source": [
        "## 1.8.2. Q2 - Reverse complement a DNA strand\n",
        "\n",
        "Reverse complement explanation:\n",
        "DNA is double-stranded. For each strand of DNA, there is a strand that runs the opposite direction and has complement bases.\n",
        "\n",
        "DNA is commonly writen from 5' to 3' (unless otherwise stated)\n"
      ]
    },
    {
      "cell_type": "code",
      "execution_count": 11,
      "metadata": {
        "colab": {
          "base_uri": "https://localhost:8080/"
        },
        "id": "TAqp533kO2_r",
        "outputId": "2c634f8a-ae1b-400a-d112-81174bc12a03"
      },
      "outputs": [
        {
          "name": "stdout",
          "output_type": "stream",
          "text": [
            "TACAGACACGTACGACACTAGAC\n"
          ]
        }
      ],
      "source": [
        "def reverse_complement (my_seq):\n",
        "  comp = {'A': 'T',\n",
        "          'T': 'A',\n",
        "          'C': 'G',\n",
        "          'G': 'C',}\n",
        "  my_seq_rc = \"\"\n",
        "  for c in my_seq:\n",
        "    my_seq_rc += comp.get(c)\n",
        "  return my_seq_rc\n",
        "\n",
        "\n",
        "first_strand = \"ATGTCTGTGCATGCTGTGATCTG\"\n",
        "print(reverse_complement(first_strand))\n",
        "\n"
      ]
    },
    {
      "cell_type": "markdown",
      "metadata": {
        "id": "j39T_aXn0889"
      },
      "source": []
    },
    {
      "cell_type": "markdown",
      "metadata": {
        "id": "PDp6RroSfAiG"
      },
      "source": [
        "## 1.8.3. Q3 Provide an introduction to your gene in Markdown\n",
        "\n",
        ">Pick a gene that is related to a human disease. Do your best to pick different genes than the rest of the class. Briefly describe the function and what is known in an introductory paragraph. Cite your references in an appropriate format. (suggestion 250 words max, 2-5 references).\n",
        "\n",
        "### Introduction to *CFTR*\n",
        "\n",
        "The Cystic Fibrosis Transmembrane Conductance Regulator gene, or *CFTR* gene, is responsible for the production for a protein that plays a crucial role in the maintenance of salt and water on the surface of the gene. This gene is known to be the cause of cystic fibrosis (CF), a genetic disorder.\n",
        "\n",
        "The CFTR protein is found in various tissues, including the lungs, pancreas, liver, and intestines. Its primary function is to regulate the flow of chloride ions and water across cell membranes. [1] In individuals with cystic fibrosis, mutations in the CFTR gene lead to the production of a defective or insufficient CFTR protein. [2] This results in the accumulation of thick and sticky mucus in various organs, particularly affecting the respiratory and digestive systems.\n",
        "\n",
        "Cystic fibrosis is a life-threatening condition characterized by respiratory and digestive problems. It can lead to lung infections, breathing difficulties, and nutritional issues. Management of cystic fibrosis often involves treatments to alleviate symptoms, improve lung function, and address nutritional challenges. [3] Understanding the CFTR gene and its role in cystic fibrosis has been instrumental in the development of targeted therapies and research aimed at improving the quality of life for individuals with this genetic disorder.\n",
        "\n",
        "\n",
        "\n",
        "\n",
        "\n",
        "\n",
        "**References:**\n",
        "\n",
        "[1] Parisi, G.F., Mòllica, F., Giallongo, A. et al. Cystic fibrosis transmembrane conductance regulator (CFTR): beyond cystic fibrosis. Egypt J Med Hum Genet 23, 94 (2022). https://doi.org/10.1186/s43042-022-00308-7\n",
        "\n",
        "[2] Jackson JJ, Mao Y, White TR Jr., Foye C and Oliver KE (2023) Features of CFTR mRNA and implications for therapeutics development. Front. Genet. 14:1166529. doi: 10.3389/fgene.2023.1166529\n",
        "\n",
        "[3] Thakur, S., Ankita, Dash, S. et al. Understanding CFTR Functionality: A Comprehensive Review of Tests and Modulator Therapy in Cystic Fibrosis. Cell Biochem Biophys (2023). https://doi.org/10.1007/s12013-023-01200-w\n",
        "\n",
        "\n",
        "\n",
        "\n"
      ]
    },
    {
      "cell_type": "markdown",
      "metadata": {
        "id": "aFD_54JWflr5"
      },
      "source": [
        "## 1.8.4. Q4 - Gene Therapy and Gene Editing\n",
        ">What kind of gene therapy or genome editing strategy do you expect could be used to treat this disease by targeting this gene? Consider DNA repair, transcriptional activation or transcriptional repression. (suggestion 250 words max)\n",
        "\n",
        "\n",
        "\n",
        "There are more than 2000 mutations that have been attributed to the CFTR gene which can lead to proteins that have a decreased effectiveness or cause full cystic fibrosis. [1] Because of this, not all gene therapy or genome editing strategies may work on individuals with cystic fibrosis. For individuals with non-functioning CFTR genes, gene replacement could be potentially useful to introduce a functional CFTR gene into the genome using a Cas9 system. [2] It would cut the CFTR gene out of and the corrected version spliced back into the genome.\n",
        "\n",
        "However, some mutations cause proteins which have some function. In this case transcriptional activation using CRISPRa could cause more proteins to be produced cause a beneficial result. This could achieve a positive result in patients because the increased transcription of the less effective protein could lead to their symptoms being suppressed. [3] Though, if there are some instances where CFTR mutations cause harm to the patients, transcriptional repression could be used to turn of translation of the gene.\n",
        "\n",
        "\n",
        "**References:**\n",
        "\n",
        "[1] Veit, G., Avramescu, R. G., Chiang, A. N., Houck, S. A., Cai, Z., Peters, K. W., Hong, J. S., Pollard, H. B., Guggino, W. B., Balch, W. E., et al. (2016). From CFTR biology toward combinatorial pharmacotherapy: expanded classification of cystic fibrosis mutations1. Mol Biol Cell 27, 424–433. DOI:10.1091/mbc.E14-04-09352\n",
        "\n",
        "[2] Wang G. Genome Editing for Cystic Fibrosis. Cells. 2023 Jun 6;12(12):1555. doi: 10.3390/cells12121555. PMID: 37371025; PMCID: PMC10297084.\n",
        "\n",
        "[3] Maule G, Arosio D, Cereseto A. Gene Therapy for Cystic Fibrosis: Progress and Challenges of Genome Editing. Int J Mol Sci. 2020 May 30;21(11):3903. doi: 10.3390/ijms21113903. PMID: 32486152; PMCID: PMC7313467.\n",
        "\n"
      ]
    },
    {
      "cell_type": "markdown",
      "metadata": {
        "id": "7ucaLhvRhWj7"
      },
      "source": [
        "# Prep for next week: Get familiar with google colab\n",
        "Try out the markdown language. Tinker with a few example problems. Here is a great place to find some example bioinformatics challenge problems\n",
        "https://rosalind.info/\n",
        "\n",
        "Try out these problems if you have time (optional):\n",
        "https://rosalind.info/problems/ini2/\n",
        "\n",
        "https://rosalind.info/problems/revc/\n",
        "\n",
        "\n",
        "\n",
        "\n"
      ]
    },
    {
      "cell_type": "markdown",
      "metadata": {
        "id": "ukXFy6jEQTtw"
      },
      "source": [
        "# Challenge Problem (Very optional)\n",
        "Check out the popular online game wordle.\n",
        "https://www.powerlanguage.co.uk/wordle/\n",
        "\n",
        "Can you write a script that will suggest answers to you?\n",
        "\n",
        "*Hint* There is a dictionary of words available here:\n",
        "https://raw.githubusercontent.com/dwyl/english-words/master/words_alpha.txt\n",
        "\n",
        "What might this excercise have to do with genome engineering?"
      ]
    }
  ],
  "metadata": {
    "colab": {
      "provenance": []
    },
    "kernelspec": {
      "display_name": "Python 3",
      "name": "python3"
    },
    "language_info": {
      "codemirror_mode": {
        "name": "ipython",
        "version": 3
      },
      "file_extension": ".py",
      "mimetype": "text/x-python",
      "name": "python",
      "nbconvert_exporter": "python",
      "pygments_lexer": "ipython3",
      "version": "3.11.4"
    }
  },
  "nbformat": 4,
  "nbformat_minor": 0
}
