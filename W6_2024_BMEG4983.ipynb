{
  "cells": [
    {
      "cell_type": "markdown",
      "metadata": {
        "id": "3mSnQRaHvSDA"
      },
      "source": [
        "<img src=https://brand.uark.edu/_resources/images/UA_Logo_Horizontal.jpg width=\"400\" height=\"96\">\n",
        "\n",
        "####BMEG 4983 - Genome Engineering and Synthetic Biology -\n",
        "####For more information, check out the Nelson lab for Therapeutic Genome Engineering (https://nelsonlab.uark.edu/)\n",
        "\n",
        "For image credits, see the linked URL\n",
        "\n",
        "#6. Data Workshop 6 - Off-target search and NGS\n",
        "\n",
        "The goal for today is to design a script for searching potential off targets and briefly analyzing next-generation sequencing data"
      ]
    },
    {
      "cell_type": "markdown",
      "metadata": {
        "id": "EU461-q2vpaQ"
      },
      "source": [
        "## 6.1 Computational off-target search\n",
        "We first want to find a comprehensive list of potential off-targets. A website with a web-based tool is available here.\n",
        "\n",
        "http://www.rgenome.net/cas-offinder/\n",
        "\n",
        "If we wanted to design our own (or have some custom paramaters) how would we do that?\n",
        "\n"
      ]
    },
    {
      "cell_type": "markdown",
      "metadata": {
        "id": "twg7SQxZz2UO"
      },
      "source": [
        "###6.1.1 Importing genome data\n",
        "\n",
        "For now, let's pull in the mitochondrial genome.\n",
        "\n",
        "You could also try this with the smallest human chromosome (21) but you may have issues with google colab letting you use that much memory.\n",
        "\n",
        "Someone has shared it here (my github doesn't allow files >25MB)\n",
        "\n",
        "https://raw.githubusercontent.com/ga4gh/benchmarking-tools/master/reporting/basic/share/microbench/input/hg38.chr21.fa\n",
        "\n",
        "If you wanted to try this on your own computer, you can get the entire genome and try it out on a local distribution of python."
      ]
    },
    {
      "cell_type": "markdown",
      "metadata": {
        "id": "DWxddoHT1o2I"
      },
      "source": [
        "### 6.1.2 ispam function.\n",
        "We have seen this function before. What this does is take in a sequence and a PAM. Accounting for ambiguous DNA gives us something like this. It returns true if it's a PAM and false if it's not."
      ]
    },
    {
      "cell_type": "code",
      "execution_count": null,
      "metadata": {
        "id": "FFDysIdF13gj"
      },
      "outputs": [],
      "source": [
        "def ispam(seq,PAM):\n",
        "    #This function decides if a given seq is a PAM. This should work for any\n",
        "    #length of PAM. This takes into account generic nucleotide letters\n",
        "    for x,char in enumerate(PAM):\n",
        "        if char =='N':\n",
        "            continue\n",
        "        elif char ==\"A\" and seq[x]==\"A\":\n",
        "            continue\n",
        "        elif char ==\"T\" and seq[x]==\"T\":\n",
        "            continue\n",
        "        elif char ==\"C\" and seq[x]==\"C\":\n",
        "            continue\n",
        "        elif char ==\"G\" and seq[x]==\"G\":\n",
        "            continue\n",
        "        elif char ==\"R\" and (seq[x]==\"G\" or seq[x]==\"A\"):\n",
        "            continue\n",
        "        elif char ==\"Y\" and (seq[x]==\"C\" or seq[x]==\"T\"):\n",
        "            continue\n",
        "        elif char ==\"S\" and (seq[x]==\"G\" or seq[x]==\"C\"):\n",
        "            continue\n",
        "        elif char ==\"W\" and (seq[x]==\"A\" or seq[x]==\"T\"):\n",
        "            continue\n",
        "        elif char ==\"K\" and (seq[x]==\"G\" or seq[x]==\"T\"):\n",
        "            continue\n",
        "        elif char ==\"M\" and (seq[x]==\"A\" or seq[x]==\"C\"):\n",
        "            continue\n",
        "        elif char ==\"B\" and (seq[x]==\"C\" or seq[x]==\"G\" or seq[x]==\"T\"):\n",
        "            continue\n",
        "        elif char ==\"D\" and (seq[x]==\"A\" or seq[x]==\"G\" or seq[x]==\"T\"):\n",
        "            continue\n",
        "        elif char ==\"H\" and (seq[x]==\"A\" or seq[x]==\"C\" or seq[x]==\"T\"):\n",
        "            continue\n",
        "        elif char ==\"V\" and (seq[x]==\"A\" or seq[x]==\"C\" or seq[x]==\"G\"):\n",
        "            continue\n",
        "        else:\n",
        "            return False\n",
        "    return True"
      ]
    },
    {
      "cell_type": "markdown",
      "metadata": {
        "id": "ckRvduKA07vc"
      },
      "source": [
        "### 6.1.3 Comparing if we have an offtarget by a number of mismatches\n",
        "\n",
        "Below is a script that will return the number of mismatches. We want to save some time and not count any beyond a maximum threshold that we provide. So the code compares each posistion. If it's a match, it coninutes. If not, in increments a mismatch value. Then it checks to see if we have gone past our max_mismatches value and retuns if we have"
      ]
    },
    {
      "cell_type": "code",
      "execution_count": null,
      "metadata": {
        "id": "e6tcGDKu1X5e"
      },
      "outputs": [],
      "source": [
        "def checkofftarget(protospacer,comparison,maxmismatches):\n",
        "    mismatches = 0\n",
        "    for x,char in enumerate(protospacer):\n",
        "        if char == comparison[x]:\n",
        "            continue\n",
        "        else:\n",
        "            #increment out mismatch value\n",
        "            mismatches = mismatches+1\n",
        "\n",
        "            #This is a time-saver. We don't need to count mismatches once we are past the max\n",
        "            if (mismatches>maxmismatches):\n",
        "                #Return some large value. We could return false or another data type here if we wanted to make this a bit more elegant.\n",
        "                return 20\n",
        "    return mismatches"
      ]
    },
    {
      "cell_type": "markdown",
      "metadata": {
        "id": "cj_xYQKVWyAR"
      },
      "source": [
        "###6.1.4 Download and import biopython"
      ]
    },
    {
      "cell_type": "code",
      "execution_count": null,
      "metadata": {
        "colab": {
          "base_uri": "https://localhost:8080/"
        },
        "id": "gLfcw8VMWyWo",
        "outputId": "10328f50-cec9-47c6-af86-ae0bb91a41e9"
      },
      "outputs": [
        {
          "name": "stdout",
          "output_type": "stream",
          "text": [
            "Collecting biopython\n",
            "  Downloading biopython-1.79-cp37-cp37m-manylinux_2_5_x86_64.manylinux1_x86_64.whl (2.3 MB)\n",
            "\u001b[K     |████████████████████████████████| 2.3 MB 8.5 MB/s \n",
            "\u001b[?25hRequirement already satisfied: numpy in /usr/local/lib/python3.7/dist-packages (from biopython) (1.21.5)\n",
            "Installing collected packages: biopython\n",
            "Successfully installed biopython-1.79\n",
            "Biopython version: 1.79\n"
          ]
        }
      ],
      "source": [
        "#Uncomment this line the first time\n",
        "!pip install biopython\n",
        "\n",
        "import Bio\n",
        "from Bio import AlignIO\n",
        "from Bio import pairwise2\n",
        "from Bio.pairwise2 import format_alignment\n",
        "from Bio.Seq import Seq\n",
        "#This line makes sure it works\n",
        "print(\"Biopython version:\", Bio.__version__)\n",
        "\n",
        "\n"
      ]
    },
    {
      "cell_type": "markdown",
      "metadata": {
        "id": "SzXfpKPmCo3W"
      },
      "source": [
        "###6.1.5 Putting it all together\n",
        "\n",
        "For this to return any results on the mitochondrial genome, I allowed for up to 12 MM."
      ]
    },
    {
      "cell_type": "code",
      "execution_count": null,
      "metadata": {
        "colab": {
          "base_uri": "https://localhost:8080/"
        },
        "id": "xrR97TOTXwYY",
        "outputId": "29348381-2062-4081-f186-57c7d353e681"
      },
      "outputs": [
        {
          "name": "stdout",
          "output_type": "stream",
          "text": [
            "found an off target!\n",
            "GATAGCCCTTATGAAACTTA\n",
            "1408\n",
            "found an off target!\n",
            "CATTTACCCAAATAAAGTAT\n",
            "1745\n",
            "found an off target!\n",
            "GTGGGAAGATTTATAGGTAG\n",
            "1985\n",
            "found an off target!\n",
            "GCGGTACCCTAACCGTGCAA\n",
            "2590\n",
            "found an off target!\n",
            "ACAGTACCTAACAAACCCAC\n",
            "2774\n",
            "found an off target!\n",
            "TAGAGTCCATATCAACAATA\n",
            "2974\n",
            "found an off target!\n",
            "ACGAAAGGACAAGAGAAATA\n",
            "3144\n",
            "found an off target!\n",
            "TGTACCCATTCTAATCGCAA\n",
            "3355\n",
            "found an off target!\n",
            "TGAGTCCCAGAGGTTACCCA\n",
            "4828\n",
            "found an off target!\n",
            "ATCATAGCAGGCAGTTGAGG\n",
            "4972\n",
            "found an off target!\n",
            "CTAAGCCCTTACTAGACCAA\n",
            "5665\n",
            "found an off target!\n",
            "GTAATACCCATCATAATCGG\n",
            "6130\n",
            "found an off target!\n",
            "AAAGAACCATTTGGATACAT\n",
            "6715\n",
            "found an off target!\n",
            "ATGATATCAATTGGCTTCCT\n",
            "6751\n",
            "found an off target!\n",
            "TTAAAAACAGATGCAATTCC\n",
            "8112\n",
            "found an off target!\n",
            "ATACTGGCATTTTGTAGATG\n",
            "9945\n",
            "found an off target!\n",
            "ATGTCTCCATCTATTGATGA\n",
            "9983\n",
            "found an off target!\n",
            "GATTGTGAATCTGACAACAG\n",
            "12183\n",
            "found an off target!\n",
            "GCAATCCTATACAACCGTAT\n",
            "12866\n",
            "found an off target!\n",
            "GCCATACTATTTATGTGCTC\n",
            "13364\n",
            "found an off target!\n",
            "ACTAAACCCCATTAAACGCC\n",
            "13705\n",
            "found an off target!\n",
            "CTGATCCTCCAAATCACCAC\n",
            "14886\n",
            "found an off target!\n",
            "ACTATAGCAACAGCCTTCAT\n",
            "15132\n",
            "found an off target!\n",
            "TTGAAAACAAAATACTCAAA\n",
            "15880\n",
            "found an off target!\n",
            "ACTATTCTCTGTTCTTTCAT\n",
            "16032\n",
            "0.047377586364746094\n"
          ]
        }
      ],
      "source": [
        "import time\n",
        "import requests\n",
        "from Bio import SeqIO\n",
        "\n",
        "#START HERE\n",
        "start = time.time()\n",
        "\n",
        "\n",
        "#This is sorty of hacky to get some data to analyze.\n",
        "url = \"https://raw.githubusercontent.com/chrisnelsonlab/BMEG4983/master/chrM.fa\"\n",
        "req = requests.get(url)\n",
        "req = req.text\n",
        "seqlist = req.splitlines()\n",
        "seq = ''\n",
        "for line in seqlist:\n",
        "  if(line[0]==\">\"):\n",
        "    header = line[1:]\n",
        "  else:\n",
        "    seq=seq+line\n",
        "seq = seq.upper()\n",
        "#End hacky area\n",
        "\n",
        "\n",
        "PAM = 'NGG'\n",
        "\n",
        "start = time.time()\n",
        "\n",
        "#Handle a table of potential protospacers?\n",
        "protospacer = \"ATGATACCATATGATAGCAG\"\n",
        "protospacer_size = len(protospacer)\n",
        "for i in range(protospacer_size,len(seq)-len(PAM)):\n",
        "  if(ispam(seq[i:i+len(PAM)],PAM)):\n",
        "    #Is it a mismatch?\n",
        "    if(checkofftarget(protospacer,seq[i-protospacer_size:i],12)<12):\n",
        "      print('found an off target!')\n",
        "      print(seq[i-protospacer_size:i])\n",
        "      print(i)\n",
        "end = time.time()\n",
        "print(end-start)\n"
      ]
    },
    {
      "cell_type": "markdown",
      "metadata": {
        "id": "tv0xHDH15RGf"
      },
      "source": [
        "##6.1.6 Other considerations\n",
        "\n",
        "How would you handle DNA / RNA buldges?\n",
        "You can examine the code shared publically for CasOffinder (github link)\n",
        "\n",
        "How fast is this?\n",
        "\n",
        "On my laptop, unoptimized, no parallel operation\n",
        "Reading fasta for whole genome (2.1 s)\n",
        "Checking a protospacer with 2 MM\n",
        "\n",
        "Time: Around an hour\n",
        "\n"
      ]
    },
    {
      "cell_type": "markdown",
      "metadata": {
        "id": "iFwIPqGUwaeJ"
      },
      "source": [
        "## 6.2 FASTQ file type\n",
        "\n",
        "<img src=https://compgenomr.github.io/book/images/fastaPic.png>\n",
        "\n",
        "\n",
        "Here is what a fastq file would look like.\n",
        "\n",
        "<img src=https://compgenomr.github.io/book/images/fastqPic.png>\n",
        "\n",
        "\n",
        "How the quality score works\n",
        "\n",
        "<img src=https://learn.gencore.bio.nyu.edu/wp-content/uploads/2018/01/Screen-Shot-2018-01-07-at-1.36.09-PM-768x535.png>\n",
        "\n",
        "\n",
        "Here is a table of the score conversion\n",
        "\n",
        "```python\n",
        "\n",
        "scoredict={'!':'0','\\”':'1','#':'2','$':'3','%':'4','&':'5','\\’':'6','(':'7',\n",
        "  ')':'8','*':'9','+':'10',',':'11','-':'12','.':'13','/':'14','0':'15','1':'16',\n",
        "  '2':'17','3':'18','4':'19','5':'20','6':'21','7':'22','8':'23','9':'24',':':'25',\n",
        "  ';':'26','<':'27','=':'28','>':'29','?':'30','@':'31','A':'32','B':'33','C':'34',\n",
        "  'D':'35','E':'36','F':'37','G':'38','H':'39','I':'40'}\n",
        "  ```\n",
        "\n",
        "\n",
        "\n",
        "\n",
        "Some sample data:\n",
        "\n",
        "https://github.com/chrisnelsonlab/CRISPR-TN5/blob/master/exampledata/EX_READ1_truncated.fastq\n"
      ]
    },
    {
      "cell_type": "markdown",
      "metadata": {
        "id": "nCerWNTEwfIp"
      },
      "source": [
        "##6.3 Indel analysis\n",
        "The goal of the following section is to import a small fastq data set and map to an expected PCR product. We want to find the indel rate in this sample.\n",
        "\n",
        "\n",
        "\n",
        "For this example, let's use targeted disruption of VEGF as an example.\n",
        "\n",
        "Our protospacer is:\n"
      ]
    },
    {
      "cell_type": "markdown",
      "metadata": {
        "id": "0x5E5P31xtNh"
      },
      "source": [
        "###6.3.1 Import fastq\n",
        "\n",
        "Import sample data from github (TBD)\n",
        "\n",
        "https://raw.githubusercontent.com/chrisnelsonlab/BMEG4983/master/pseudofastq/TP53_NGS.fa\n",
        "\n",
        "https://raw.githubusercontent.com/chrisnelsonlab/BMEG4983/master/pseudofastq/TP53.fastq"
      ]
    },
    {
      "cell_type": "code",
      "execution_count": null,
      "metadata": {
        "colab": {
          "base_uri": "https://localhost:8080/"
        },
        "id": "ngxUuAAzgt16",
        "outputId": "a58f7cd2-1652-4e99-8254-e3feb6261ac5"
      },
      "outputs": [
        {
          "name": "stdout",
          "output_type": "stream",
          "text": [
            "Collecting biopython\n",
            "  Downloading biopython-1.79-cp37-cp37m-manylinux_2_5_x86_64.manylinux1_x86_64.whl (2.3 MB)\n",
            "\u001b[K     |████████████████████████████████| 2.3 MB 30.5 MB/s \n",
            "\u001b[?25hRequirement already satisfied: numpy in /usr/local/lib/python3.7/dist-packages (from biopython) (1.21.5)\n",
            "Installing collected packages: biopython\n",
            "Successfully installed biopython-1.79\n",
            "Biopython version: 1.79\n"
          ]
        }
      ],
      "source": [
        "#Uncomment this line the first time\n",
        "!pip install biopython\n",
        "\n",
        "import Bio\n",
        "from Bio import AlignIO\n",
        "from Bio import pairwise2\n",
        "from Bio.pairwise2 import format_alignment\n",
        "from Bio.Seq import Seq\n",
        "#This line makes sure it works\n",
        "print(\"Biopython version:\", Bio.__version__)\n"
      ]
    },
    {
      "cell_type": "code",
      "execution_count": null,
      "metadata": {
        "colab": {
          "base_uri": "https://localhost:8080/"
        },
        "id": "j9G4uIcjZDiA",
        "outputId": "70edbb9d-8676-4406-9ea3-ffb70b5f2a3b"
      },
      "outputs": [
        {
          "name": "stdout",
          "output_type": "stream",
          "text": [
            "Check here for a link to your data: https://github.com/chrisnelsonlab/BMEG4983/tree/master/pseudofastq\n",
            "There are 100 sequences remaining after filtering\n",
            "Saving as my_gene_filtered.fastq\n",
            "Check for the file output in the folder on the left side of google colab\n",
            "There are 24 edits with the following footprint:\n",
            "del: CTCCTCCATGGCAGT----------GCAGT\n",
            "There are 11 edits with the following footprint:\n",
            "del: CCTCCATGGCAGTGA---GGAAGGCAGTCT\n",
            "There are 9 edits with the following footprint:\n",
            "ins: CCATGGCAGTGACCC-GGAAGGCAGTCTGG\n",
            "for a total indel rate of: 44.0%\n"
          ]
        }
      ],
      "source": [
        "import time\n",
        "import requests\n",
        "#from Bio import SeqIO\n",
        "\n",
        "print(\"Check here for a link to your data: https://github.com/chrisnelsonlab/BMEG4983/tree/master/pseudofastq\")\n",
        "\n",
        "\n",
        "scoredict = {\n",
        "    '!':'0',\n",
        "    '\\”':'1',\n",
        "    '#':'2',\n",
        "    '$':'3',\n",
        "    '%':'4',\n",
        "    '&':'5',\n",
        "    '\\’':'6',\n",
        "    '(':'7',\n",
        "    ')':'8',\n",
        "    '*':'9',\n",
        "    '+':'10',\n",
        "    ',':'11',\n",
        "    '-':'12',\n",
        "    '.':'13',\n",
        "    '/':'14',\n",
        "    '0':'15',\n",
        "    '1':'16',\n",
        "    '2':'17',\n",
        "    '3':'18',\n",
        "    '4':'19',\n",
        "    '5':'20',\n",
        "    '6':'21',\n",
        "    '7':'22',\n",
        "    '8':'23',\n",
        "    '9':'24',\n",
        "    ':':'25',\n",
        "    ';':'26',\n",
        "    '<':'27',\n",
        "    '=':'28',\n",
        "    '>':'29',\n",
        "    '?':'30',\n",
        "    '@':'31',\n",
        "    'A':'32',\n",
        "    'B':'33',\n",
        "    'C':'34',\n",
        "    'D':'35',\n",
        "    'E':'36',\n",
        "    'F':'37',\n",
        "    'G':'38',\n",
        "    'H':'39',\n",
        "    'I':'40'\n",
        "}\n",
        "def averagePHRED(score):\n",
        "    #Filter out by average score\n",
        "    totalscore =0\n",
        "    for bp in score:\n",
        "        totalscore = totalscore+int(scoredict[bp])\n",
        "    averagescore=totalscore/len(score)\n",
        "    return averagescore\n",
        "\n",
        "\n",
        "\n",
        "\n",
        "#This is sorty of hacky to get some data to analyze.\n",
        "url = \"https://raw.githubusercontent.com/chrisnelsonlab/BMEG4983/master/pseudofastq/TP53_NGS.fa\"\n",
        "req = requests.get(url)\n",
        "req = req.text\n",
        "seqlist = req.splitlines()\n",
        "amplicon = ''\n",
        "for line in seqlist:\n",
        "  if(line[0]==\">\"):\n",
        "    header = line[1:]\n",
        "  else:\n",
        "    amplicon=amplicon+line\n",
        "amplicon = amplicon.upper()\n",
        "#End hacky area\n",
        "\n",
        "\n",
        "#This is sorty of hacky to get some data to analyze.\n",
        "url = \"https://raw.githubusercontent.com/chrisnelsonlab/BMEG4983/master/pseudofastq/TP53.fastq\"\n",
        "req = requests.get(url)\n",
        "req = req.text\n",
        "seqlist = req.splitlines()\n",
        "seq=''\n",
        "header=''\n",
        "quality =''\n",
        "extra = ''\n",
        "seq_data = []\n",
        "\n",
        "for x,line in enumerate(seqlist):\n",
        "  if(x%4==0):\n",
        "    header = line\n",
        "  elif(x%4==1):\n",
        "    seq = line\n",
        "  elif(x%4==2):\n",
        "    extra = line\n",
        "  else:\n",
        "    quality=line\n",
        "    seq_data.append([header,seq,extra,quality])\n",
        "seqcount = 0\n",
        "\n",
        "filteredseqs = []\n",
        "outputfilename = 'my_gene_filtered.fastq'\n",
        "with open(outputfilename, 'w') as writefile:\n",
        "  for i in range(0,len(seq_data)):\n",
        "    if(averagePHRED(seq_data[i][3])>35):\n",
        "      writefile.write(seq_data[i][0]+'\\r\\n')\n",
        "      writefile.write(seq_data[i][1]+'\\r\\n')\n",
        "      writefile.write(seq_data[i][2]+'\\r\\n')\n",
        "      writefile.write(seq_data[i][3]+'\\r\\n')\n",
        "      filteredseqs.append(seq_data[i][1])\n",
        "      seqcount=seqcount+1\n",
        "\n",
        "\n",
        "print('There are '+str(seqcount)+' sequences remaining after filtering')\n",
        "print('Saving as '+outputfilename)\n",
        "print('Check for the file output in the folder on the left side of google colab')\n",
        "\n",
        "edit_types = []\n",
        "alledits = []\n",
        "insertions = 0\n",
        "deletions = 0\n",
        "unedited = 0\n",
        "for filteredseq in filteredseqs:\n",
        "  alignments = pairwise2.align.globalms(amplicon, filteredseq,2, -1, -5, -1,penalize_end_gaps=False)\n",
        "  alignment =alignments[0]\n",
        "  #print(format_alignment(*alignment))\n",
        "  if(alignment[0].count(\"-\",0,len(amplicon))>0):\n",
        "    #print('insertion')\n",
        "    insertions = insertions +1\n",
        "    x=alignment[0].find(\"-\",0,len(amplicon))\n",
        "    edit = \"ins: \"+alignment[0][x-15:x+15]\n",
        "    alledits.append(edit)\n",
        "    if edit not in edit_types:\n",
        "      edit_types.append(edit)\n",
        "  elif(alignment[1].count(\"-\",0,len(amplicon))>1):\n",
        "    #print('deletion')\n",
        "    deletions = deletions+1\n",
        "    x=alignment[1].find(\"-\",0,len(amplicon))\n",
        "    edit = \"del: \"+alignment[1][x-15:x+15]\n",
        "    alledits.append(edit)\n",
        "    if edit not in edit_types:\n",
        "      edit_types.append(edit)\n",
        "  else:\n",
        "    #print('not edited')\n",
        "    unedited=unedited+1\n",
        "\n",
        "for footprint in edit_types:\n",
        "  count = alledits.count(footprint)\n",
        "  print('There are '+str(count)+' edits with the following footprint:')\n",
        "  print(footprint)\n",
        "indelrate = (insertions+deletions)/(insertions+deletions+unedited)*100\n",
        "print('for a total indel rate of: '+str(indelrate)+'%')\n"
      ]
    },
    {
      "cell_type": "code",
      "execution_count": null,
      "metadata": {
        "colab": {
          "base_uri": "https://localhost:8080/"
        },
        "id": "4yXxQGAOaDjA",
        "outputId": "9087b6cf-b068-4695-d27e-ab78037591a9"
      },
      "outputs": [
        {
          "name": "stdout",
          "output_type": "stream",
          "text": [
            "TTCCATAGGTCTGAAAATGTTTCCTGACTCAGAGGGGGCTCGACGCTAGGATCTGACTGCGGCTCCTCCATGGCAGTGA---GGAAGGCAGTCTGGCTGCTGCAAGAGGAAAAGTGGGGATCCAGCATGAGACACTTCCAACCCTGGGTCACC\n"
          ]
        }
      ],
      "source": [
        "print(alignment[1])"
      ]
    },
    {
      "cell_type": "markdown",
      "metadata": {
        "id": "zuyucOtlxwWq"
      },
      "source": [
        "### 6.3.2 Filter by read quality\n",
        "\n"
      ]
    },
    {
      "cell_type": "markdown",
      "metadata": {
        "id": "EUKuC3F3PIhI"
      },
      "source": [
        "We can make a dictionary that holds the score conversion for us."
      ]
    },
    {
      "cell_type": "code",
      "execution_count": null,
      "metadata": {
        "colab": {
          "base_uri": "https://localhost:8080/"
        },
        "id": "xTJo4isp-Llz",
        "outputId": "e2b5a641-3209-4a2e-b567-46328c2d5b4a"
      },
      "outputs": [
        {
          "name": "stdout",
          "output_type": "stream",
          "text": [
            "{'!': '0', '\\\\”': '1', '#': '2', '$': '3', '%': '4', '&': '5', '\\\\’': '6', '(': '7', ')': '8', '*': '9', '+': '10', ',': '11', '-': '12', '.': '13', '/': '14', '0': '15', '1': '16', '2': '17', '3': '18', '4': '19', '5': '20', '6': '21', '7': '22', '8': '23', '9': '24', ':': '25', ';': '26', '<': '27', '=': '28', '>': '29', '?': '30', '@': '31', 'A': '32', 'B': '33', 'C': '34', 'D': '35', 'E': '36', 'F': '37', 'G': '38', 'H': '39', 'I': '40'}\n"
          ]
        }
      ],
      "source": [
        "scoredict={'!':'0','\\”':'1','#':'2','$':'3','%':'4','&':'5','\\’':'6','(':'7',\n",
        "  ')':'8','*':'9','+':'10',',':'11','-':'12','.':'13','/':'14','0':'15','1':'16',\n",
        "  '2':'17','3':'18','4':'19','5':'20','6':'21','7':'22','8':'23','9':'24',':':'25',\n",
        "  ';':'26','<':'27','=':'28','>':'29','?':'30','@':'31','A':'32','B':'33','C':'34',\n",
        "  'D':'35','E':'36','F':'37','G':'38','H':'39','I':'40'}\n",
        "print(scoredict)"
      ]
    },
    {
      "cell_type": "markdown",
      "metadata": {
        "id": "ieKveMjHxz8Z"
      },
      "source": [
        "### 6.3.3 Merge Forward and reverse reads\n",
        "\n",
        "Write a script to merge forward and reverse reads. Can you make this choose the best score if there is a discrepency?"
      ]
    },
    {
      "cell_type": "markdown",
      "metadata": {
        "id": "6SStN01c5ELp"
      },
      "source": [
        "###6.3.4 Align to target amplicon\n",
        "\n",
        "Using biopython, align to a target amplicon to determine if there are indels\n"
      ]
    },
    {
      "cell_type": "markdown",
      "metadata": {
        "id": "eBOLxHroIWzF"
      },
      "source": [
        "# 6.4 Homework 6"
      ]
    },
    {
      "cell_type": "markdown",
      "metadata": {
        "id": "NjoRt3DuNKvd"
      },
      "source": [
        "## 6.4.1 Off-target search\n",
        "\n",
        "Using your online tool of choice, identify the number of off-targets for your selected gRNA.\n",
        "\n",
        "A. Your selected gRNA (you only need to do this for one):AAGGTCGGAGTCAACGGATTNGG\n",
        "\n",
        "B. Describe your search method (What tool, what genome, etc): used CRISPR RGEN, using SpCas9 from Streptococcus pyogenes: 5'-NGG-3' for the PAM type genome and hg38 for the target genome\n",
        "\n",
        "C. Results of your off-target search (use a format similar to this):\n",
        "\n",
        "| Number of Mismatches    | Number of locations |\n",
        "| -------- | ------- |\n",
        "| 0  | 1    |\n",
        "| 0 | 2     |\n",
        "| 0    | 3   |\n",
        "| 0    | 1    |\n",
        "\n",
        "\n"
      ]
    },
    {
      "cell_type": "markdown",
      "metadata": {
        "id": "R4pzANdGI5Dk"
      },
      "source": [
        "## 6.4.2 Insertion or Deletion Footprint\n",
        "\n",
        "**After filtering and merging fwd and reverse reads, you find the following four sequences:**\n",
        "```\n",
        ">sequence1\n",
        "AAGAAGCCCAGACGGAAACCGTAGCTGCCCTGGTAGGTTTTCTGGGAAGGGACAGAAGATGACAGGGGCCAGGAGGGGGCTGGTGCAGGGGCCGCCGGTGTAGGAGCTGCTGGTGCAGGGGCCACGGGGGGAGCAGCCTCTGGCATTCTG\n",
        ">sequence2\n",
        "AAGAAGCCCAGACGGAAACCGTAGCTGCCCTGGTAGGTTTTCTGGGAAGGGACAGAAGATACAGGGGCCAGGAGGGGGCTGGTGCAGGGGCCGCCGGTGTAGGAGCTGCTGGTGCAGGGGCCACGGGGGGAGCAGCCTCTGGCATTCTG\n",
        ">sequence3\n",
        "AAGAAGCCCAGACGGAAACCGTAGCTGCCCTGGTAGGTTTTCTGGGAAGGGACAGAAGATTGACAGGGGCCAGGAGGGGGCTGGTGCAGGGGCCGCCGGTGTAGGAGCTGCTGGTGCAGGGGCCACGGGGGGAGCAGCCTCTGGCATTCTG\n",
        ">sequence4\n",
        "AAGAAGCCCAGACGGAAACCGTAGCTGCCCTGGTAGGTTTTCTGGGAAGGGACAGAAGACAGGGGCCAGGAGGGGGCTGGTGCAGGGGCCGCCGGTGTAGGAGCTGCTGGTGCAGGGGCCACGGGGGGAGCAGCCTCTGGCATTCTG\n",
        "```\n",
        "\n",
        "A) What gene is this (human)? TP53\n",
        "\n",
        "B) What is the insertion-deletion footprint?\n",
        "\n",
        "1. Sequence 1 is the wild type gene\n",
        "2. Sequence 2 has a 1 base deletion\n",
        "3. Sequence 3 has a 1 base addition\n",
        "4. Sequence 4 has a 3 base deletion\n",
        "\n",
        "C) What crispr gRNA do you expect was used?\n",
        "\n",
        "There are 4 repeating G's about 5 bp downstream from the site of the deletions, so probably a gRNA using those G's such as AGG\n",
        "\n",
        "\n"
      ]
    }
  ],
  "metadata": {
    "colab": {
      "provenance": []
    },
    "kernelspec": {
      "display_name": "Python 3",
      "name": "python3"
    },
    "language_info": {
      "name": "python"
    }
  },
  "nbformat": 4,
  "nbformat_minor": 0
}
